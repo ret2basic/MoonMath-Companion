{
 "cells": [
  {
   "cell_type": "code",
   "execution_count": 1,
   "id": "27568edf",
   "metadata": {},
   "outputs": [
    {
     "data": {
      "text/plain": [
       "Integer Ring"
      ]
     },
     "execution_count": 1,
     "metadata": {},
     "output_type": "execute_result"
    }
   ],
   "source": [
    "ZZ"
   ]
  },
  {
   "cell_type": "markdown",
   "id": "b9af4e06",
   "metadata": {},
   "source": [
    "\"Integer Ring\" means it represents the set of all integers and it is a ring"
   ]
  },
  {
   "cell_type": "code",
   "execution_count": 2,
   "id": "f26f2c1c",
   "metadata": {},
   "outputs": [
    {
     "data": {
      "text/plain": [
       "Non negative integer semiring"
      ]
     },
     "execution_count": 2,
     "metadata": {},
     "output_type": "execute_result"
    }
   ],
   "source": [
    "NN"
   ]
  },
  {
   "cell_type": "markdown",
   "id": "17d1ea9e",
   "metadata": {},
   "source": [
    "Semiring drops the additive inverse requirement from the definition of a ring, so under addition it is a commutative monoid, under multiplication it is just a monoid."
   ]
  },
  {
   "cell_type": "code",
   "execution_count": 3,
   "id": "39473be2",
   "metadata": {},
   "outputs": [
    {
     "data": {
      "text/plain": [
       "Rational Field"
      ]
     },
     "execution_count": 3,
     "metadata": {},
     "output_type": "execute_result"
    }
   ],
   "source": [
    "QQ"
   ]
  },
  {
   "cell_type": "markdown",
   "id": "91795c49",
   "metadata": {},
   "source": [
    "A field is a commutative ring where every non-zero element has an inverse."
   ]
  },
  {
   "cell_type": "code",
   "execution_count": 4,
   "id": "bfd6b7eb",
   "metadata": {},
   "outputs": [
    {
     "data": {
      "text/plain": [
       "5"
      ]
     },
     "execution_count": 4,
     "metadata": {},
     "output_type": "execute_result"
    }
   ],
   "source": [
    "ZZ(5)"
   ]
  },
  {
   "cell_type": "code",
   "execution_count": 5,
   "id": "9da160db",
   "metadata": {},
   "outputs": [
    {
     "data": {
      "text/plain": [
       "8"
      ]
     },
     "execution_count": 5,
     "metadata": {},
     "output_type": "execute_result"
    }
   ],
   "source": [
    "ZZ(5) + ZZ(3)"
   ]
  },
  {
   "cell_type": "code",
   "execution_count": 6,
   "id": "cc489d96",
   "metadata": {},
   "outputs": [
    {
     "data": {
      "text/plain": [
       "15"
      ]
     },
     "execution_count": 6,
     "metadata": {},
     "output_type": "execute_result"
    }
   ],
   "source": [
    "ZZ(5) * NN(3)"
   ]
  },
  {
   "cell_type": "code",
   "execution_count": null,
   "id": "738cfa86",
   "metadata": {},
   "outputs": [],
   "source": []
  }
 ],
 "metadata": {
  "kernelspec": {
   "display_name": "SageMath 9.5",
   "language": "sage",
   "name": "sagemath"
  },
  "language_info": {
   "codemirror_mode": {
    "name": "ipython",
    "version": 3
   },
   "file_extension": ".py",
   "mimetype": "text/x-python",
   "name": "python",
   "nbconvert_exporter": "python",
   "pygments_lexer": "ipython3",
   "version": "3.10.12"
  }
 },
 "nbformat": 4,
 "nbformat_minor": 5
}

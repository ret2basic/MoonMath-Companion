{
 "cells": [
  {
   "cell_type": "code",
   "execution_count": 1,
   "id": "630ca169",
   "metadata": {},
   "outputs": [
    {
     "data": {
      "text/plain": [
       "Integer Ring"
      ]
     },
     "execution_count": 1,
     "metadata": {},
     "output_type": "execute_result"
    }
   ],
   "source": [
    "ZZ"
   ]
  },
  {
   "cell_type": "markdown",
   "id": "4febeafb",
   "metadata": {},
   "source": [
    "\"Integer Ring\" means it represents the set of all integers and it is a ring"
   ]
  },
  {
   "cell_type": "code",
   "execution_count": 2,
   "id": "5e5aa43b",
   "metadata": {},
   "outputs": [
    {
     "data": {
      "text/plain": [
       "Non negative integer semiring"
      ]
     },
     "execution_count": 2,
     "metadata": {},
     "output_type": "execute_result"
    }
   ],
   "source": [
    "NN"
   ]
  },
  {
   "cell_type": "markdown",
   "id": "399692d9",
   "metadata": {},
   "source": [
    "Semiring drops the additive inverse requirement from the definition of a ring, so under addition it is a commutative monoid, under multiplication it is just a monoid."
   ]
  },
  {
   "cell_type": "code",
   "execution_count": 3,
   "id": "e4699c68",
   "metadata": {},
   "outputs": [
    {
     "data": {
      "text/plain": [
       "Rational Field"
      ]
     },
     "execution_count": 3,
     "metadata": {},
     "output_type": "execute_result"
    }
   ],
   "source": [
    "QQ"
   ]
  },
  {
   "cell_type": "markdown",
   "id": "69a6d5be",
   "metadata": {},
   "source": [
    "A field is a commutative ring where every non-zero element has an inverse."
   ]
  },
  {
   "cell_type": "code",
   "execution_count": 4,
   "id": "4c39c918",
   "metadata": {},
   "outputs": [
    {
     "data": {
      "text/plain": [
       "5"
      ]
     },
     "execution_count": 4,
     "metadata": {},
     "output_type": "execute_result"
    }
   ],
   "source": [
    "ZZ(5)"
   ]
  },
  {
   "cell_type": "code",
   "execution_count": 5,
   "id": "2f22a4ce",
   "metadata": {},
   "outputs": [
    {
     "data": {
      "text/plain": [
       "8"
      ]
     },
     "execution_count": 5,
     "metadata": {},
     "output_type": "execute_result"
    }
   ],
   "source": [
    "ZZ(5) + ZZ(3)"
   ]
  },
  {
   "cell_type": "code",
   "execution_count": 6,
   "id": "41e166d7",
   "metadata": {},
   "outputs": [
    {
     "data": {
      "text/plain": [
       "15"
      ]
     },
     "execution_count": 6,
     "metadata": {},
     "output_type": "execute_result"
    }
   ],
   "source": [
    "ZZ(5) * NN(3)"
   ]
  },
  {
   "cell_type": "code",
   "execution_count": 7,
   "id": "329ea38d",
   "metadata": {},
   "outputs": [
    {
     "data": {
      "text/plain": [
       "194743"
      ]
     },
     "execution_count": 7,
     "metadata": {},
     "output_type": "execute_result"
    }
   ],
   "source": [
    "ZZ.random_element(10**6)"
   ]
  },
  {
   "cell_type": "code",
   "execution_count": 8,
   "id": "ac05b535",
   "metadata": {},
   "outputs": [],
   "source": [
    "n = NN(504)"
   ]
  },
  {
   "cell_type": "code",
   "execution_count": 9,
   "id": "958978aa",
   "metadata": {},
   "outputs": [
    {
     "data": {
      "text/plain": [
       "2^3 * 3^2 * 7"
      ]
     },
     "execution_count": 9,
     "metadata": {},
     "output_type": "execute_result"
    }
   ],
   "source": [
    "factor(n)"
   ]
  },
  {
   "cell_type": "code",
   "execution_count": 10,
   "id": "ac5a5f23",
   "metadata": {},
   "outputs": [
    {
     "data": {
      "text/plain": [
       "-5"
      ]
     },
     "execution_count": 10,
     "metadata": {},
     "output_type": "execute_result"
    }
   ],
   "source": [
    "ZZ(-17) // ZZ(4)"
   ]
  },
  {
   "cell_type": "code",
   "execution_count": 11,
   "id": "56412293",
   "metadata": {},
   "outputs": [
    {
     "data": {
      "text/plain": [
       "3"
      ]
     },
     "execution_count": 11,
     "metadata": {},
     "output_type": "execute_result"
    }
   ],
   "source": [
    "ZZ(-17) % ZZ(4)"
   ]
  },
  {
   "cell_type": "code",
   "execution_count": 12,
   "id": "765760a4",
   "metadata": {},
   "outputs": [
    {
     "data": {
      "text/plain": [
       "False"
      ]
     },
     "execution_count": 12,
     "metadata": {},
     "output_type": "execute_result"
    }
   ],
   "source": [
    "ZZ(4).divides(ZZ(-17))"
   ]
  },
  {
   "cell_type": "code",
   "execution_count": 13,
   "id": "68196537",
   "metadata": {},
   "outputs": [
    {
     "data": {
      "text/plain": [
       "True"
      ]
     },
     "execution_count": 13,
     "metadata": {},
     "output_type": "execute_result"
    }
   ],
   "source": [
    "ZZ(4).divides(ZZ(12))"
   ]
  },
  {
   "cell_type": "code",
   "execution_count": 15,
   "id": "3c9cd247",
   "metadata": {},
   "outputs": [
    {
     "name": "stdout",
     "output_type": "stream",
     "text": [
      "-5\n",
      "3\n",
      "\n",
      "4\n",
      "-1\n"
     ]
    }
   ],
   "source": [
    "# An example that gives correct result\n",
    "# -17 = -5 * 4 + 3\n",
    "print(ZZ(-17) // ZZ(4)) # -17 div 4 should be -5\n",
    "print(ZZ(-17) % ZZ(4)) # -17 div 4 should be 3\n",
    "\n",
    "print()\n",
    "\n",
    "# An example that gives wrong result\n",
    "# -17 = 5 * -4 + 3\n",
    "print(ZZ(-17) // ZZ(-4)) # -17 div -4 should be 5\n",
    "print(ZZ(-17) % ZZ(-4)) # -17 mod -4 should be 3\n"
   ]
  },
  {
   "cell_type": "code",
   "execution_count": 16,
   "id": "5576b4ae",
   "metadata": {},
   "outputs": [
    {
     "data": {
      "text/plain": [
       "(8457, 16)"
      ]
     },
     "execution_count": 16,
     "metadata": {},
     "output_type": "execute_result"
    }
   ],
   "source": [
    "ZZ(143785).quo_rem(ZZ(17))"
   ]
  },
  {
   "cell_type": "code",
   "execution_count": 17,
   "id": "86fa48ad",
   "metadata": {},
   "outputs": [
    {
     "data": {
      "text/plain": [
       "True"
      ]
     },
     "execution_count": 17,
     "metadata": {},
     "output_type": "execute_result"
    }
   ],
   "source": [
    "ZZ(143785) == ZZ(8457) * ZZ(17) + ZZ(16)"
   ]
  },
  {
   "cell_type": "code",
   "execution_count": null,
   "id": "7f18ef98",
   "metadata": {},
   "outputs": [],
   "source": []
  }
 ],
 "metadata": {
  "kernelspec": {
   "display_name": "SageMath 9.5",
   "language": "sage",
   "name": "sagemath"
  },
  "language_info": {
   "codemirror_mode": {
    "name": "ipython",
    "version": 3
   },
   "file_extension": ".py",
   "mimetype": "text/x-python",
   "name": "python",
   "nbconvert_exporter": "python",
   "pygments_lexer": "ipython3",
   "version": "3.10.12"
  }
 },
 "nbformat": 4,
 "nbformat_minor": 5
}
